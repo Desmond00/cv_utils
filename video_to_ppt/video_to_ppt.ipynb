{
 "cells": [
  {
   "cell_type": "markdown",
   "metadata": {},
   "source": [
    "#### import libs"
   ]
  },
  {
   "cell_type": "code",
   "execution_count": 188,
   "metadata": {},
   "outputs": [],
   "source": [
    "import cv2\n",
    "from skimage.metrics import structural_similarity as ssim\n",
    "import datetime\n",
    "import matplotlib.pyplot as plt\n",
    "from tqdm import tqdm\n",
    "from fpdf import FPDF\n",
    "import os\n",
    "import shutil\n",
    "import imutils"
   ]
  },
  {
   "cell_type": "markdown",
   "metadata": {},
   "source": [
    "#### hyper-parameters"
   ]
  },
  {
   "cell_type": "code",
   "execution_count": 84,
   "metadata": {},
   "outputs": [],
   "source": [
    "'''\n",
    "frame_check_freq controls how frequent you want to capture the frames in video\n",
    "example 30 dictates capturing every 30 frames\n",
    "'''\n",
    "frame_check_freq = 30\n",
    "''' \n",
    "seconds_check_freq controls for how many second interval you want to capture the frames in video\n",
    "example 2 dictates capturing frame every 2 seconds\n",
    "\n",
    "'''\n",
    "seconds_check_freq = 2\n",
    "# increase these 2 hyper-param if the video haults on single frame for longer duration"
   ]
  },
  {
   "cell_type": "markdown",
   "metadata": {},
   "source": [
    "#### config"
   ]
  },
  {
   "cell_type": "code",
   "execution_count": 34,
   "metadata": {},
   "outputs": [],
   "source": [
    "video_path = \"./data/test_cv_video_to_ppt.mp4\""
   ]
  },
  {
   "cell_type": "markdown",
   "metadata": {},
   "source": [
    "#### video summary"
   ]
  },
  {
   "cell_type": "code",
   "execution_count": 19,
   "metadata": {},
   "outputs": [
    {
     "name": "stdout",
     "output_type": "stream",
     "text": [
      "duration in seconds: 324\n",
      "video time: 0:05:24\n",
      "Total video frames: 9706.0 and fps: 30.0\n"
     ]
    }
   ],
   "source": [
    "video_cap = cv2.VideoCapture(video_path)\n",
    "\n",
    "# count the number of frames \n",
    "frames = video_cap.get(cv2.CAP_PROP_FRAME_COUNT) \n",
    "fps = video_cap.get(cv2.CAP_PROP_FPS) \n",
    "  \n",
    "# calculate duration of the video \n",
    "seconds = round(frames / fps) \n",
    "video_time = datetime.timedelta(seconds=seconds) \n",
    "print(f\"duration in seconds: {seconds}\") \n",
    "print(f\"video time: {video_time}\") \n",
    "print(f\"Total video frames: {frames} and fps: {fps}\")\n",
    "\n",
    "video_cap.release()"
   ]
  },
  {
   "cell_type": "markdown",
   "metadata": {},
   "source": [
    "#### custom function to check image similarity"
   ]
  },
  {
   "cell_type": "code",
   "execution_count": 70,
   "metadata": {},
   "outputs": [],
   "source": [
    "def is_similar_image(img1, img2, similarity_thresh=0.8):\n",
    "    img1 = cv2.cvtColor(img1, cv2.COLOR_RGB2GRAY)\n",
    "    img2 = cv2.cvtColor(img2, cv2.COLOR_RGB2GRAY)\n",
    "    similarity_score = ssim(img1, img2)\n",
    "    if similarity_score >= similarity_thresh:\n",
    "        return True, similarity_score\n",
    "    else:\n",
    "        return False, similarity_score"
   ]
  },
  {
   "cell_type": "markdown",
   "metadata": {},
   "source": [
    "#### extract frame based on hyper-parameters"
   ]
  },
  {
   "cell_type": "code",
   "execution_count": 85,
   "metadata": {},
   "outputs": [
    {
     "name": "stdout",
     "output_type": "stream",
     "text": [
      "Video fps: 30.0\n",
      "Capturing a frame every 2 seconds\n",
      "parsed frames: 9706\n",
      "selected frames: 161\n"
     ]
    }
   ],
   "source": [
    "print(f\"Video fps: {fps}\")\n",
    "if seconds_check_freq == 1 and fps >= frame_check_freq and fps % frame_check_freq == 0:\n",
    "    print(f\"Capturing {int(fps/frame_check_freq)} frames per second\")\n",
    "elif seconds_check_freq > 1:\n",
    "    print(f\"Capturing a frame every {seconds_check_freq} seconds\")\n",
    "else:\n",
    "    print(f\"Capturing every {frame_check_freq} alternate frame\")\n",
    "\n",
    "\n",
    "captured_frames = []\n",
    "frame_count = 0\n",
    "frame_select_index = seconds_check_freq*frame_check_freq\n",
    "video_cap = cv2.VideoCapture(video_path)\n",
    "while(video_cap.isOpened()): \n",
    "    ret, frame = video_cap.read() \n",
    "    if ret == True: \n",
    "        frame_count += 1\n",
    "        if frame_count % frame_select_index == 0:\n",
    "            captured_frames.append(frame)\n",
    "    else: \n",
    "        break\n",
    "\n",
    "print(f\"parsed frames: {frame_count}\")\n",
    "print(f\"selected frames: {len(captured_frames)}\")\n",
    "video_cap.release() "
   ]
  },
  {
   "cell_type": "markdown",
   "metadata": {},
   "source": [
    "#### filter distinct images based on similarity scores"
   ]
  },
  {
   "cell_type": "code",
   "execution_count": 153,
   "metadata": {},
   "outputs": [
    {
     "name": "stderr",
     "output_type": "stream",
     "text": [
      "100%|██████████| 161/161 [00:14<00:00, 11.37it/s]"
     ]
    },
    {
     "name": "stdout",
     "output_type": "stream",
     "text": [
      "Found 34 frames\n"
     ]
    },
    {
     "name": "stderr",
     "output_type": "stream",
     "text": [
      "\n"
     ]
    }
   ],
   "source": [
    "distinct_images = []\n",
    "\n",
    "cur_ref_image = captured_frames[-1]\n",
    "distinct_images.append(cur_ref_image)\n",
    "for image in tqdm(captured_frames[::-1]):\n",
    "    is_similar, similarity_score = is_similar_image(cur_ref_image, image, 0.6)\n",
    "    if not is_similar:\n",
    "        distinct_images.append(image)\n",
    "        cur_ref_image = image\n",
    "\n",
    "filtered_slides = list(reversed(distinct_images))\n",
    "print(f\"Found {len(distinct_images)} frames\")"
   ]
  },
  {
   "cell_type": "markdown",
   "metadata": {},
   "source": [
    "#### export images"
   ]
  },
  {
   "cell_type": "code",
   "execution_count": 189,
   "metadata": {},
   "outputs": [
    {
     "name": "stderr",
     "output_type": "stream",
     "text": [
      "34it [00:01, 24.23it/s]\n"
     ]
    }
   ],
   "source": [
    "output_frame_dir = f\"{os.getcwd()}/slide_images/\"\n",
    "if not os.path.exists(output_frame_dir):\n",
    "    os.makedirs(output_frame_dir)\n",
    "else:\n",
    "    shutil.rmtree(output_frame_dir)\n",
    "    os.makedirs(output_frame_dir)\n",
    "\n",
    "img_h, img_w = filtered_slides[0].shape[:-1]\n",
    "pdf_w, pdf_h = float(img_w * 0.264583), float(img_h * 0.264583)\n",
    "pdf_w_limit, pdf_h_limit = 297, 210\n",
    "for slide_idx, slide_image in tqdm(enumerate(filtered_slides)):\n",
    "    # image resizing to make sure image dim doesn't exceed pdf dim\n",
    "    if pdf_w > pdf_h and pdf_w > pdf_w_limit:\n",
    "        slide_image = imutils.resize(slide_image, pdf_w_limit)\n",
    "        pdf_w, pdf_h = pdf_w_limit, slide_image.shape[0]\n",
    "    elif pdf_h > pdf_h_limit:\n",
    "        slide_image = imutils.resize(slide_image, pdf_h_limit)\n",
    "        pdf_h, pdf_w = pdf_h_limit, slide_image.shape[1]\n",
    "    cv2.imwrite(f\"{output_frame_dir}slide_{slide_idx}.jpg\", slide_image)"
   ]
  },
  {
   "cell_type": "markdown",
   "metadata": {},
   "source": [
    "#### repeatitive images can be discarded now from the export folder"
   ]
  },
  {
   "cell_type": "markdown",
   "metadata": {},
   "source": [
    "#### export to pdf"
   ]
  },
  {
   "cell_type": "code",
   "execution_count": 191,
   "metadata": {},
   "outputs": [
    {
     "data": {
      "text/plain": [
       "''"
      ]
     },
     "execution_count": 191,
     "metadata": {},
     "output_type": "execute_result"
    }
   ],
   "source": [
    "video_name_without_extension = \".\".join(video_path.split(\"/\")[-1].split(\".\")[:-1])\n",
    "pdf_name = f\"{video_name_without_extension}.pdf\"\n",
    "print(pdf_name)\n",
    "\n",
    "if pdf_h > pdf_w:\n",
    "    pdf = FPDF(unit = \"mm\", format = \"A4\")\n",
    "else:\n",
    "    pdf = FPDF(\"L\", unit = \"mm\", format = \"A4\")\n",
    "\n",
    "# imagelist is the list with all image filenames\n",
    "for image_name in os.listdir(output_frame_dir):\n",
    "    image_path = f\"{output_frame_dir}{image_name}\"\n",
    "    pdf.add_page()\n",
    "    pdf.image(image_path, x=0, y=0, w=pdf_w, h=pdf_h)\n",
    "pdf.output(pdf_name, \"F\")"
   ]
  }
 ],
 "metadata": {
  "kernelspec": {
   "display_name": "cv",
   "language": "python",
   "name": "python3"
  },
  "language_info": {
   "codemirror_mode": {
    "name": "ipython",
    "version": 3
   },
   "file_extension": ".py",
   "mimetype": "text/x-python",
   "name": "python",
   "nbconvert_exporter": "python",
   "pygments_lexer": "ipython3",
   "version": "3.11.7"
  }
 },
 "nbformat": 4,
 "nbformat_minor": 2
}
